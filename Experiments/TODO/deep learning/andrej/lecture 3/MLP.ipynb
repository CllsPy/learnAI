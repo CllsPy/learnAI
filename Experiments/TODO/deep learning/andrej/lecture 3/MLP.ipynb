{
  "nbformat": 4,
  "nbformat_minor": 0,
  "metadata": {
    "colab": {
      "private_outputs": true,
      "provenance": []
    },
    "kernelspec": {
      "name": "python3",
      "display_name": "Python 3"
    },
    "language_info": {
      "name": "python"
    }
  },
  "cells": [
    {
      "cell_type": "markdown",
      "source": [
        "[Bengio et al. 2003 (MLP language model) paper walkthrough](https://www.youtube.com/watch?v=TCH_1BHY58I)\n",
        "\n",
        "<br>\n",
        "\n",
        "- A vantagem no uso do MLP é que ele usa a memória (texto visto antes) para conseguir prever a próxima palavra mais provável.\n"
      ],
      "metadata": {
        "id": "TlLUOlDPMdc7"
      }
    },
    {
      "cell_type": "markdown",
      "source": [
        "## Implement It"
      ],
      "metadata": {
        "id": "mPt6tDRyOiBG"
      }
    },
    {
      "cell_type": "code",
      "source": [
        "import torch\n",
        "import torch.nn.functional as F\n",
        "import matplotlib.pyplot as plt # for making figures\n",
        "%matplotlib inline"
      ],
      "metadata": {
        "id": "MNJvPulAOi32"
      },
      "execution_count": null,
      "outputs": []
    },
    {
      "cell_type": "code",
      "source": [
        "%%capture\n",
        "# download the names.txt file from github\n",
        "!wget https://raw.githubusercontent.com/karpathy/makemore/master/names.txt"
      ],
      "metadata": {
        "id": "DKmcwb3jPEc3"
      },
      "execution_count": null,
      "outputs": []
    },
    {
      "cell_type": "code",
      "source": [
        "# read in all the words\n",
        "words = open('names.txt', 'r').read().splitlines()\n",
        "# words[:8]"
      ],
      "metadata": {
        "id": "L7wrWFqBP6Ji"
      },
      "execution_count": null,
      "outputs": []
    },
    {
      "cell_type": "markdown",
      "source": [
        "Esse código procura para todas as letras únicas e transforma cada uma dele é um número."
      ],
      "metadata": {
        "id": "O-KnKjpfR8UQ"
      }
    },
    {
      "cell_type": "code",
      "source": [
        "# transform words in numbers\n",
        "chars = sorted(list(set(\"\".join(words))))\n",
        "stoi = {s:i+1 for i, s in enumerate(chars)}\n",
        "stoi['.'] = 0\n",
        "itos = {i:s for s, i in stoi.items()}\n",
        "# itos"
      ],
      "metadata": {
        "id": "CR60_qIGQVLa"
      },
      "execution_count": null,
      "outputs": []
    }
  ]
}