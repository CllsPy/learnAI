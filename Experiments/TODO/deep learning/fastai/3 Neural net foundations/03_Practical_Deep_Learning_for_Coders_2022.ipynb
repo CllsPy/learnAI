{
  "nbformat": 4,
  "nbformat_minor": 0,
  "metadata": {
    "colab": {
      "private_outputs": true,
      "provenance": []
    },
    "kernelspec": {
      "name": "python3",
      "display_name": "Python 3"
    },
    "language_info": {
      "name": "python"
    }
  },
  "cells": [
    {
      "cell_type": "markdown",
      "source": [
        "# [Fonte](https://www.kaggle.com/code/jhoward/how-does-a-neural-net-really-work)"
      ],
      "metadata": {
        "id": "vOTcQxUhmJa-"
      }
    },
    {
      "cell_type": "code",
      "source": [
        "from ipywidgets import interact\n",
        "from fastai.basics import *\n",
        "\n",
        "plt.rc('figure', dpi=90)\n",
        "\n",
        "def plot_function(f, title=None, min=-2.1, max=2.1, color='r', ylim=None):\n",
        "    x = torch.linspace(min,max, 100)[:,None]\n",
        "    if ylim: plt.ylim(ylim)\n",
        "    plt.plot(x, f(x), color)\n",
        "    if title is not None: plt.title(title)"
      ],
      "metadata": {
        "id": "5xTXeDvPlPRx"
      },
      "execution_count": null,
      "outputs": []
    },
    {
      "cell_type": "markdown",
      "source": [
        "Essa é a noção função Quadrática, de coeficientes 3, 2 e 1."
      ],
      "metadata": {
        "id": "YQKRPHI3qnL4"
      }
    },
    {
      "cell_type": "code",
      "source": [
        "def f(x): return 3*x**2 + 2*x + 1\n",
        "\n",
        "plot_function(f, \"$3x^2 + 2x + 1$\")"
      ],
      "metadata": {
        "id": "cXzMR_jZmCeO"
      },
      "execution_count": null,
      "outputs": []
    },
    {
      "cell_type": "markdown",
      "source": [
        "Agora imagine que não sabemos qual equação gerou ela, originalmente."
      ],
      "metadata": {
        "id": "1VQDutQeqwdL"
      }
    },
    {
      "cell_type": "code",
      "source": [
        "# Gerar função quadrática\n",
        "def quad(a, b, c, x):\n",
        "  return a*x**2 + b*x + c\n",
        "\n",
        "# Padronizar criação da equação quadrática\n",
        "def mk_quad(a,b,c):\n",
        "  return partial(quad, a,b,c) # <- dúvida"
      ],
      "metadata": {
        "id": "qIL7cX_bq0xd"
      },
      "execution_count": null,
      "outputs": []
    },
    {
      "cell_type": "code",
      "source": [
        "f2 = mk_quad(3,2,1)\n",
        "plot_function(f2)"
      ],
      "metadata": {
        "id": "sp30Ya5XrvYS"
      },
      "execution_count": null,
      "outputs": []
    },
    {
      "cell_type": "markdown",
      "source": [
        "Agora vamos imaginar uma situação em que a equação original não é conhecida e o nosso objetivo é apróximar o máximo possível dela."
      ],
      "metadata": {
        "id": "FCdnAR4RJxmB"
      }
    },
    {
      "cell_type": "code",
      "source": [
        "def noise(x, scale):\n",
        "  return np.random.normal(scale=scale, size=x.shape)\n",
        "\n",
        "def add_noise(x, mult, add):\n",
        "  return x * (1+noise(x,mult)) + noise(x,add)"
      ],
      "metadata": {
        "id": "OBqQW494J4NY"
      },
      "execution_count": null,
      "outputs": []
    },
    {
      "cell_type": "code",
      "source": [
        "np.random.seed(42)\n",
        "\n",
        "x = torch.linspace(-2, 2, steps=20)[:,None]\n",
        "y = add_noise(f(x), 0.15, 1.5)\n",
        "\n",
        "plt.scatter(x,y);"
      ],
      "metadata": {
        "id": "oXw4Us36J81a"
      },
      "execution_count": null,
      "outputs": []
    },
    {
      "cell_type": "markdown",
      "source": [
        "O objetivo desta função é que manualmente, interagindo com os coeficientes, a, b e c você possa encontrar a melhor curva possível que compreendo os pontos (como na nossa função original)."
      ],
      "metadata": {
        "id": "MXNQDpvfKvbq"
      }
    },
    {
      "cell_type": "code",
      "source": [
        "@interact(a=1.1, b=1.1, c=1.1)\n",
        "def plot_quad(a, b, c):\n",
        "    plt.scatter(x,y)\n",
        "    plot_function(mk_quad(a,b,c), ylim=(-3,13))"
      ],
      "metadata": {
        "id": "vXXRX0UBKjJI"
      },
      "execution_count": null,
      "outputs": []
    },
    {
      "cell_type": "markdown",
      "source": [
        "Para que se possa ter ciência dos resultados, seria interessante alguma forma de medir o \"erro\" entre o nosso ajuste e os pontos. Nesse caso usaremos o MAE (MEAN SQUARE ERROR)\n",
        "\n",
        "\n",
        "![](https://miro.medium.com/v2/resize:fit:723/1*9BhnZiaHkApC-gQt3rYpMQ.png)"
      ],
      "metadata": {
        "id": "EA3xKjaDLnCC"
      }
    },
    {
      "cell_type": "code",
      "source": [
        "import matplotlib\n",
        "%matplotlib inline\n",
        "\n",
        "def mae(preds, acts):\n",
        "  return (torch.abs(preds-acts)).mean()\n",
        "\n",
        "@interact(a=1.1, b=1.1, c=1.1)\n",
        "def plot_quad(a, b, c):\n",
        "    f = mk_quad(a,b,c)\n",
        "    plt.scatter(x,y)\n",
        "    loss = mae(f(x), y)\n",
        "    plot_function(f, ylim=(-3,12), title=f\"MAE: {loss:.2f}\")"
      ],
      "metadata": {
        "id": "egHZktjKLxAk"
      },
      "execution_count": null,
      "outputs": []
    },
    {
      "cell_type": "markdown",
      "source": [
        "Claro que seria inviável fazer isto automaticamente, portanto para automar podemos usar Pytorch que aplicando os conceitos do cálculo (Derivas em especial) consegue calcular esse erro, o nome disso é gradiente."
      ],
      "metadata": {
        "id": "OdnMIAjcRyjb"
      }
    },
    {
      "cell_type": "code",
      "source": [
        "def quad_mae(params):\n",
        "    f = mk_quad(*params)\n",
        "    return mae(f(x), y)\n",
        "\n",
        "abc = torch.tensor([1.5,1.5,1.5])\n",
        "abc.requires_grad_()"
      ],
      "metadata": {
        "id": "NDq7NI56R9zb"
      },
      "execution_count": null,
      "outputs": []
    },
    {
      "cell_type": "code",
      "source": [
        "loss = quad_mae(abc)\n",
        "loss.backward()\n",
        "\n",
        "abc.grad"
      ],
      "metadata": {
        "id": "1CaW5oCXSsDs"
      },
      "execution_count": null,
      "outputs": []
    },
    {
      "cell_type": "code",
      "source": [
        "with torch.no_grad():\n",
        "    abc -= abc.grad*0.01\n",
        "    loss = quad_mae(abc)\n",
        "\n",
        "print(f'loss={loss:.2f}')"
      ],
      "metadata": {
        "id": "ue3sw1k4TMd-"
      },
      "execution_count": null,
      "outputs": []
    },
    {
      "cell_type": "code",
      "source": [
        "for i in range(10):\n",
        "    loss = quad_mae(abc)\n",
        "    loss.backward()\n",
        "    with torch.no_grad(): abc -= abc.grad*0.01\n",
        "    print(f'step={i}; loss={loss:.2f}')"
      ],
      "metadata": {
        "id": "X2ln45XpWy_8"
      },
      "execution_count": null,
      "outputs": []
    },
    {
      "cell_type": "markdown",
      "source": [
        "Claro que, nem todas as equações no mundo serão quadátricas, logo precisamos de algo mais genérico."
      ],
      "metadata": {
        "id": "1XisMQa5X9xL"
      }
    },
    {
      "cell_type": "code",
      "source": [
        "def rectified_linear(m,b,x):\n",
        "    y = m*x+b\n",
        "    return torch.clip(y, 0.)\n",
        "\n",
        "plot_function(partial(rectified_linear, 1,1))"
      ],
      "metadata": {
        "id": "wcVpH6DKYE3w"
      },
      "execution_count": null,
      "outputs": []
    },
    {
      "cell_type": "code",
      "source": [
        "@interact(m=1.5, b=1.5)\n",
        "def plot_relu(m, b):\n",
        "    plot_function(partial(rectified_linear, m,b), ylim=(-1,4))"
      ],
      "metadata": {
        "id": "uY5Sb1DtYJVQ"
      },
      "execution_count": null,
      "outputs": []
    },
    {
      "cell_type": "markdown",
      "source": [
        "Essa função (acima) não é tão interessante, mas podemos criar uma \"double_relu\", o que nos dá mais controle sobre a linha."
      ],
      "metadata": {
        "id": "eZXuq3VBYjgG"
      }
    },
    {
      "cell_type": "code",
      "source": [
        "def double_relu(m1,b1,m2,b2,x):\n",
        "    return rectified_linear(m1,b1,x) + rectified_linear(m2,b2,x)\n",
        "\n",
        "@interact(m1=-1.5, b1=-1.5, m2=1.5, b2=1.5)\n",
        "def plot_double_relu(m1, b1, m2, b2):\n",
        "    plot_function(partial(double_relu, m1,b1,m2,b2), ylim=(-1,6))"
      ],
      "metadata": {
        "id": "98us_mEQYTdN"
      },
      "execution_count": null,
      "outputs": []
    },
    {
      "cell_type": "markdown",
      "source": [
        "Podemos adicionar quantas \"Relus\" forem necessárias ou quisermos de modo que elas podem se adequar aos mais diversos conjunto de dados e seus padrões."
      ],
      "metadata": {
        "id": "PhNIkLC6ZEyw"
      }
    }
  ]
}