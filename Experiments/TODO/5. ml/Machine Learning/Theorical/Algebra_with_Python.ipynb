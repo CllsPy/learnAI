{
  "cells": [
    {
      "cell_type": "code",
      "execution_count": 2,
      "metadata": {
        "id": "lIYdn1woOS1n"
      },
      "outputs": [],
      "source": [
        "import numpy as np"
      ]
    },
    {
      "cell_type": "markdown",
      "source": [
        "# Sum"
      ],
      "metadata": {
        "id": "r7yKirNEsNWb"
      }
    },
    {
      "cell_type": "code",
      "source": [
        "As = np.array([[1, 2, 3], [3, 2, 1]])\n",
        "Bs = np.array([[0, 0, 0], [0, 0, 0]])\n",
        "Cs = A + B\n",
        "Cs"
      ],
      "metadata": {
        "colab": {
          "base_uri": "https://localhost:8080/"
        },
        "id": "Jek1pXx7sOxL",
        "outputId": "985ef0cb-fb18-4506-ed72-155d21a10a6e"
      },
      "execution_count": 12,
      "outputs": [
        {
          "output_type": "execute_result",
          "data": {
            "text/plain": [
              "array([[1, 2, 3],\n",
              "       [3, 2, 1]])"
            ]
          },
          "metadata": {},
          "execution_count": 12
        }
      ]
    },
    {
      "cell_type": "markdown",
      "source": [
        "# Multiplication"
      ],
      "metadata": {
        "id": "C7e482gMsLi0"
      }
    },
    {
      "cell_type": "code",
      "source": [
        "A = np.array([[1, 2, 3], [3, 2, 1]])\n",
        "B = np.array([[0, 2], [1, -1], [0, 1]])\n",
        "print(f'M1: {A}\\n')\n",
        "print(f'M2: {B}')"
      ],
      "metadata": {
        "id": "BOjNHodVrOo3",
        "outputId": "bc74902f-c3ca-4f66-bb33-c56dcc2cfb70",
        "colab": {
          "base_uri": "https://localhost:8080/"
        }
      },
      "execution_count": 13,
      "outputs": [
        {
          "output_type": "stream",
          "name": "stdout",
          "text": [
            "M1: [[1 2 3]\n",
            " [3 2 1]]\n",
            "\n",
            "M2: [[ 0  2]\n",
            " [ 1 -1]\n",
            " [ 0  1]]\n"
          ]
        }
      ]
    },
    {
      "cell_type": "code",
      "source": [
        "C = np.dot(A, B)\n",
        "C"
      ],
      "metadata": {
        "id": "fz4PdzjWrVZY",
        "outputId": "4620c4d1-3b4f-4edd-87eb-416c732a64bb",
        "colab": {
          "base_uri": "https://localhost:8080/"
        }
      },
      "execution_count": 14,
      "outputs": [
        {
          "output_type": "execute_result",
          "data": {
            "text/plain": [
              "array([[2, 3],\n",
              "       [2, 5]])"
            ]
          },
          "metadata": {},
          "execution_count": 14
        }
      ]
    }
  ],
  "metadata": {
    "colab": {
      "provenance": []
    },
    "kernelspec": {
      "display_name": "Python 3",
      "name": "python3"
    }
  },
  "nbformat": 4,
  "nbformat_minor": 0
}