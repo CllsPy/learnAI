{
  "nbformat": 4,
  "nbformat_minor": 0,
  "metadata": {
    "colab": {
      "private_outputs": true,
      "provenance": []
    },
    "kernelspec": {
      "name": "python3",
      "display_name": "Python 3"
    },
    "language_info": {
      "name": "python"
    }
  },
  "cells": [
    {
      "cell_type": "markdown",
      "source": [
        "## References\n",
        "\n",
        "- [What is the purpose of meshgrid in NumPy?](https://stackoverflow.com/questions/36013063/what-is-the-purpose-of-meshgrid-in-numpy)"
      ],
      "metadata": {
        "id": "uzLFwimgja_k"
      }
    },
    {
      "cell_type": "markdown",
      "source": [
        "## Introduction"
      ],
      "metadata": {
        "id": "BH6x_ppTiodF"
      }
    },
    {
      "cell_type": "code",
      "source": [
        "import numpy as np\n",
        "import matplotlib.pyplot as plt"
      ],
      "metadata": {
        "id": "5zIftfzzirvh"
      },
      "execution_count": null,
      "outputs": []
    },
    {
      "cell_type": "markdown",
      "source": [
        "## 2D Mesh\n",
        "![](https://i.sstatic.net/8Mbig.png)"
      ],
      "metadata": {
        "id": "wYjMWum1i0GP"
      }
    },
    {
      "cell_type": "code",
      "source": [
        "x = np.linspace(-2, 2, 500)\n",
        "y = np.linspace(-2, 2, 500)\n",
        "\n",
        "X, Y = np.meshgrid(x, y)"
      ],
      "metadata": {
        "id": "EAmao2Pqi1cd"
      },
      "execution_count": null,
      "outputs": []
    },
    {
      "cell_type": "markdown",
      "source": [
        "## Contour"
      ],
      "metadata": {
        "id": "hV0o7FhRmGPm"
      }
    },
    {
      "cell_type": "code",
      "source": [
        "Z = np.sin(X) + np.cos(Y)\n",
        "\n",
        "plt.ion()\n",
        "plt.figure()\n",
        "plt.contour(X, Y, Z)\n",
        "\n",
        "\n",
        "plt.clf() # clear\n",
        "plt.contourf(X, Y, Z)\n",
        "plt.colorbar()"
      ],
      "metadata": {
        "id": "R_3sAw5Vl9Dv"
      },
      "execution_count": null,
      "outputs": []
    }
  ]
}