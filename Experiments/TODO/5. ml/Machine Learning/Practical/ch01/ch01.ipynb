{
 "cells": [
  {
   "cell_type": "code",
   "execution_count": 2,
   "metadata": {},
   "outputs": [],
   "source": [
    "%%capture\n",
    "\n",
    "#HIDE  CELL\n",
    "%pip install Numpy Scipy Scikit-learn matplotlib pandas"
   ]
  },
  {
   "cell_type": "code",
   "execution_count": 3,
   "metadata": {},
   "outputs": [
    {
     "data": {
      "text/plain": [
       "'2.1.3'"
      ]
     },
     "execution_count": 3,
     "metadata": {},
     "output_type": "execute_result"
    }
   ],
   "source": [
    "import numpy\n",
    "numpy.__version__"
   ]
  },
  {
   "cell_type": "markdown",
   "metadata": {},
   "source": [
    "## 𝜎(z) where z -> Net Input "
   ]
  },
  {
   "cell_type": "code",
   "execution_count": 4,
   "metadata": {},
   "outputs": [
    {
     "data": {
      "text/plain": [
       "'0.712612919969663 -> 0'"
      ]
     },
     "execution_count": 4,
     "metadata": {},
     "output_type": "execute_result"
    }
   ],
   "source": [
    "## NET INPUT\n",
    "import numpy as np\n",
    "from numpy import random\n",
    "\n",
    "class Neuron(object):\n",
    "    def __init__(self, w, x, d = None):\n",
    "        self.w = w\n",
    "        self.x = x\n",
    "        self.d = d\n",
    "    \n",
    "    def net_input(self):\n",
    "        net = self.w @ self.x\n",
    "        return net\n",
    "\n",
    "    def decision_func(self):\n",
    "        if self.net_input() > 1:\n",
    "            return f'{self.net_input()} -> 1'\n",
    "        \n",
    "        else:\n",
    "            return f'{self.net_input()} -> 0'\n",
    "    \n",
    "x = random.randint(2, size=3)\n",
    "w = random.rand(3)\n",
    "\n",
    "neuron = Neuron(w, x)\n",
    "neuron.decision_func()"
   ]
  },
  {
   "cell_type": "code",
   "execution_count": 18,
   "metadata": {},
   "outputs": [
    {
     "data": {
      "text/plain": [
       "0.5"
      ]
     },
     "execution_count": 18,
     "metadata": {},
     "output_type": "execute_result"
    }
   ],
   "source": [
    "b = 0.5\n",
    "b"
   ]
  },
  {
   "cell_type": "code",
   "execution_count": 21,
   "metadata": {},
   "outputs": [
    {
     "data": {
      "text/plain": [
       "array([0.01249015, 0.08001814, 0.63259478])"
      ]
     },
     "execution_count": 21,
     "metadata": {},
     "output_type": "execute_result"
    }
   ],
   "source": [
    "w.transpose()"
   ]
  },
  {
   "cell_type": "code",
   "execution_count": 16,
   "metadata": {},
   "outputs": [
    {
     "data": {
      "text/plain": [
       "np.float64(1.2126129199696631)"
      ]
     },
     "execution_count": 16,
     "metadata": {},
     "output_type": "execute_result"
    }
   ],
   "source": [
    "z = x @ w + b\n",
    "z"
   ]
  },
  {
   "cell_type": "code",
   "execution_count": 17,
   "metadata": {},
   "outputs": [
    {
     "name": "stdout",
     "output_type": "stream",
     "text": [
      "Mean Squared Error: 104.20222653187027\n",
      "Coefficient: 44.24418215597419\n",
      "Intercept: 0.09922221422587718\n"
     ]
    }
   ],
   "source": [
    "from sklearn.datasets import make_regression\n",
    "from sklearn.linear_model import LinearRegression\n",
    "from sklearn.model_selection import train_test_split\n",
    "from sklearn.metrics import mean_squared_error\n",
    "\n",
    "# Generate synthetic regression data\n",
    "X, y = make_regression(n_samples=100, n_features=1, noise=10, random_state=42)\n",
    "\n",
    "# Split the data into training and testing sets\n",
    "X_train, X_test, y_train, y_test = train_test_split(X, y, test_size=0.2, random_state=42)\n",
    "\n",
    "# Create and train the model\n",
    "model = LinearRegression()\n",
    "model.fit(X_train, y_train)\n",
    "\n",
    "# Make predictions\n",
    "y_pred = model.predict(X_test)\n",
    "\n",
    "# Evaluate the model\n",
    "mse = mean_squared_error(y_test, y_pred)\n",
    "print(f\"Mean Squared Error: {mse}\")\n",
    "\n",
    "# Print the coefficients\n",
    "print(f\"Coefficient: {model.coef_[0]}\")\n",
    "print(f\"Intercept: {model.intercept_}\")\n"
   ]
  },
  {
   "cell_type": "code",
   "execution_count": 50,
   "metadata": {},
   "outputs": [
    {
     "name": "stdout",
     "output_type": "stream",
     "text": [
      "{'coefficients': [44.24418215597419], 'intercept': np.float64(0.09922221422587718)}\n"
     ]
    }
   ],
   "source": [
    "# Access the weights (coefficients) and intercept\n",
    "weights = model.coef_\n",
    "intercept = model.intercept_\n",
    "\n",
    "best_weights = {\n",
    "    \"coefficients\": weights.tolist(),  # Convert to list if needed\n",
    "    \"intercept\": intercept\n",
    "}\n",
    "\n",
    "print(best_weights)\n"
   ]
  },
  {
   "cell_type": "code",
   "execution_count": 51,
   "metadata": {},
   "outputs": [
    {
     "name": "stdout",
     "output_type": "stream",
     "text": [
      "New Mean Squared Error: 104.22513177184052\n",
      "New Coefficient: [44.24518179]\n",
      "New Intercept: [0.09698586]\n"
     ]
    }
   ],
   "source": [
    "from sklearn.linear_model import SGDRegressor\n",
    "import numpy as np\n",
    "\n",
    "# Use the previously learned weights and intercept\n",
    "initial_weights = model.coef_\n",
    "initial_intercept = model.intercept_\n",
    "\n",
    "# Create a new model\n",
    "new_model = SGDRegressor(max_iter=1000, tol=1e-3, warm_start=True, learning_rate='constant', eta0=0.01)\n",
    "\n",
    "# Manually set the initial weights and intercept\n",
    "# This requires setting the `coef_` and `intercept_` attributes after calling `partial_fit` once\n",
    "new_model.partial_fit(X_train, y_train)  # Initial fit to create attributes\n",
    "new_model.coef_ = initial_weights\n",
    "new_model.intercept_ = np.array([initial_intercept])\n",
    "\n",
    "# Train the new model further\n",
    "new_model.partial_fit(X_train, y_train)\n",
    "\n",
    "# Evaluate the new model\n",
    "y_pred_new = new_model.predict(X_test)\n",
    "mse_new = mean_squared_error(y_test, y_pred_new)\n",
    "\n",
    "print(f\"New Mean Squared Error: {mse_new}\")\n",
    "print(f\"New Coefficient: {new_model.coef_}\")\n",
    "print(f\"New Intercept: {new_model.intercept_}\")\n"
   ]
  },
  {
   "cell_type": "code",
   "execution_count": 52,
   "metadata": {},
   "outputs": [
    {
     "name": "stdout",
     "output_type": "stream",
     "text": [
      "Fresh Model Mean Squared Error: 104.7817263859572\n",
      "Fresh Model Coefficient: [44.17539741]\n",
      "Fresh Model Intercept: [0.04764636]\n"
     ]
    }
   ],
   "source": [
    "from sklearn.linear_model import SGDRegressor\n",
    "from sklearn.metrics import mean_squared_error\n",
    "\n",
    "# Create a new SGDRegressor model\n",
    "fresh_model = SGDRegressor(max_iter=1000, tol=1e-3, random_state=42)\n",
    "\n",
    "# Train the model from scratch using the same data\n",
    "fresh_model.fit(X_train, y_train)\n",
    "\n",
    "# Make predictions\n",
    "y_pred_fresh = fresh_model.predict(X_test)\n",
    "\n",
    "# Evaluate the model\n",
    "mse_fresh = mean_squared_error(y_test, y_pred_fresh)\n",
    "\n",
    "print(f\"Fresh Model Mean Squared Error: {mse_fresh}\")\n",
    "print(f\"Fresh Model Coefficient: {fresh_model.coef_}\")\n",
    "print(f\"Fresh Model Intercept: {fresh_model.intercept_}\")\n"
   ]
  }
 ],
 "metadata": {
  "kernelspec": {
   "display_name": "Python 3",
   "language": "python",
   "name": "python3"
  },
  "language_info": {
   "codemirror_mode": {
    "name": "ipython",
    "version": 3
   },
   "file_extension": ".py",
   "mimetype": "text/x-python",
   "name": "python",
   "nbconvert_exporter": "python",
   "pygments_lexer": "ipython3",
   "version": "3.12.7"
  }
 },
 "nbformat": 4,
 "nbformat_minor": 2
}
