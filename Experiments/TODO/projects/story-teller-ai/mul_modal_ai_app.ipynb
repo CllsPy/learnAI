{
  "nbformat": 4,
  "nbformat_minor": 0,
  "metadata": {
    "colab": {
      "private_outputs": true,
      "provenance": []
    },
    "kernelspec": {
      "name": "python3",
      "display_name": "Python 3"
    },
    "language_info": {
      "name": "python"
    }
  },
  "cells": [
    {
      "cell_type": "code",
      "execution_count": null,
      "metadata": {
        "id": "jmt7x3OjWWAt"
      },
      "outputs": [],
      "source": [
        "## import basic libs\n",
        "%%capture\n",
        "!pip install transformers langchain huggingface_hub accelerate bitsndbyts pydub\n",
        "!pip install langchain-huggingface"
      ]
    },
    {
      "cell_type": "code",
      "source": [
        "import os\n",
        "from google.colab import userdata\n",
        "\n",
        "sec_key = userdata.get('HF_TOKEN')\n",
        "os.environ['HUGGINGFACEHUB_API_TOKEN'] = sec_key"
      ],
      "metadata": {
        "id": "_iHwDm2qZlEi"
      },
      "execution_count": null,
      "outputs": []
    },
    {
      "cell_type": "code",
      "source": [
        "from transformers import pipeline\n",
        "\n",
        "## create img2text func\n",
        "def im2tx(url):\n",
        "\n",
        "    # Use a pipeline as a high-level helper\n",
        "    image2text = pipeline(\n",
        "        \"image-to-text\",\n",
        "        model=\"Salesforce/blip-image-captioning-large\")\n",
        "\n",
        "    img_txt = image2text(url)[0]['generated_text']\n",
        "\n",
        "    return img_txt"
      ],
      "metadata": {
        "id": "BlVLOabGYWpL"
      },
      "execution_count": null,
      "outputs": []
    },
    {
      "cell_type": "code",
      "source": [
        "text = im2tx('https://media.npr.org/assets/img/2022/11/04/gettyimages-1183414292-1-_slide-30784f99ac10f059c242d37e91d05ead475854f4.jpg')"
      ],
      "metadata": {
        "id": "ekapwYghZRq8"
      },
      "execution_count": null,
      "outputs": []
    },
    {
      "cell_type": "code",
      "source": [
        "from langchain_huggingface import HuggingFaceEndpoint\n",
        "\n",
        "## create def to generate the lore\n",
        "def createLore(text, id):\n",
        "    llm = HuggingFaceEndpoint(\n",
        "        repo_id=id,\n",
        "        max_length=128,\n",
        "        temperature=0.7,\n",
        "        token=sec_key)\n",
        "\n",
        "    prompt = f'you are a write, your task is write a histor about {text}'\n",
        "    textResult = llm.invoke(prompt)\n",
        "    return textResult"
      ],
      "metadata": {
        "id": "FHJXmBGVbOtf"
      },
      "execution_count": null,
      "outputs": []
    },
    {
      "cell_type": "code",
      "source": [
        "repo_id=\"mistralai/Mistral-7B-Instruct-v0.2\"\n",
        "lore = createLore(text, repo_id)"
      ],
      "metadata": {
        "id": "uUT4iKw2dMtz"
      },
      "execution_count": null,
      "outputs": []
    },
    {
      "cell_type": "code",
      "source": [
        "lore"
      ],
      "metadata": {
        "id": "eGhSaxJ7uZIs"
      },
      "execution_count": null,
      "outputs": []
    }
  ]
}