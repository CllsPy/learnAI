{
  "nbformat": 4,
  "nbformat_minor": 0,
  "metadata": {
    "colab": {
      "private_outputs": true,
      "provenance": [],
      "gpuType": "T4"
    },
    "kernelspec": {
      "name": "python3",
      "display_name": "Python 3"
    },
    "language_info": {
      "name": "python"
    },
    "accelerator": "GPU"
  },
  "cells": [
    {
      "cell_type": "code",
      "execution_count": null,
      "metadata": {
        "id": "IzQKIjbnVI_R"
      },
      "outputs": [],
      "source": [
        "%%capture\n",
        "## Libraries Required\n",
        "!pip install langchain-huggingface\n",
        "## For API Calls\n",
        "!pip install huggingface_hub\n",
        "!pip install transformers\n",
        "!pip install accelerate\n",
        "!pip install  bitsandbytes\n",
        "!pip install langchain"
      ]
    },
    {
      "cell_type": "code",
      "source": [
        "## Environment secret keys\n",
        "from google.colab import userdata\n",
        "sec_key=userdata.get(\"HF_TOKEN\")\n",
        "print(sec_key)"
      ],
      "metadata": {
        "id": "sxjLdC9wrvh_"
      },
      "execution_count": null,
      "outputs": []
    },
    {
      "cell_type": "code",
      "source": [
        "# def text2image(url):\n",
        "#     img_to_text = pipeline(\"image-to-text\", model=\"Salesforce/blip-image-captioning-large\")\n",
        "#     text = img_to_text(url)[0]['generated_text']\n",
        "\n",
        "#     return text\n",
        "# text2image('https://plus.unsplash.com/premium_photo-1683140621573-233422bfc7f1?fm=jpg&q=60&w=3000&ixlib=rb-4.0.3&ixid=M3wxMjA3fDB8MHxzZWFyY2h8MXx8YmxhY2slMjB3b21hbiUyMHNtaWxpbmd8ZW58MHx8MHx8fDA%3D')"
      ],
      "metadata": {
        "id": "vyZULVePWMEY"
      },
      "execution_count": null,
      "outputs": []
    },
    {
      "cell_type": "code",
      "source": [
        "from langchain_huggingface import HuggingFaceEndpoint\n",
        "\n",
        "import os\n",
        "os.environ[\"HUGGINGFACEHUB_API_TOKEN\"]=sec_key\n",
        "\n",
        "\n",
        "repo_id=\"mistralai/Mistral-7B-Instruct-v0.2\"\n",
        "llm=HuggingFaceEndpoint(repo_id=repo_id,max_length=128,temperature=0.7,token=sec_key)"
      ],
      "metadata": {
        "id": "HbursYBIYcxF"
      },
      "execution_count": null,
      "outputs": []
    },
    {
      "cell_type": "code",
      "source": [
        "llm.invoke(\"What is machine learning\")"
      ],
      "metadata": {
        "id": "acCeUVpVyZ-q"
      },
      "execution_count": null,
      "outputs": []
    }
  ]
}