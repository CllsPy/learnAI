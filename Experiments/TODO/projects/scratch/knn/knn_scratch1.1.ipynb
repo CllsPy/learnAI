{
  "nbformat": 4,
  "nbformat_minor": 0,
  "metadata": {
    "colab": {
      "provenance": []
    },
    "kernelspec": {
      "name": "python3",
      "display_name": "Python 3"
    },
    "language_info": {
      "name": "python"
    }
  },
  "cells": [
    {
      "cell_type": "markdown",
      "source": [
        "1. create a `raw_majority_votes` that counts the values of a vector. It receives labels and return the most common value.\n",
        "\n",
        "\n",
        "\n",
        "*   count most commons\n",
        "*   show the value\n",
        "\n",
        "\n",
        "\n",
        "```python\n",
        "from collections import Counter\n",
        "\n",
        "def raw_majority_votes(labels: List[str]) -> str:\n",
        "    votes = Counter(labels) # count most commons\n",
        "    winner,_ = votes.most_common(1)[0] # show the value\n",
        "    return winner\n",
        "\n",
        "```\n",
        "\n"
      ],
      "metadata": {
        "id": "40F_LkjghCuB"
      }
    },
    {
      "cell_type": "markdown",
      "source": [
        "2. Reduce k (number of neighbors) untill we find a unique winner.\n",
        "\n",
        "*   count most commons\n",
        "*   save winner and winner_counts\n",
        "*   count num_winners: len[count for ...]\n",
        "*   if num_winners = 1 return winner\n",
        "*   else return majority_votes(labels[:-1])\n",
        "\n",
        "```python\n",
        "def majority_vote(labels: List[str])-> str:\n",
        "    votes = Counter(labels) # count most commons\n",
        "    winner,winner_counts = votes.most_common(1)[0] # show the value\n",
        "    num_winners = len([count for count in votes.values() if count == winner_count()])\n",
        "\n",
        "    if num_winners == 1:\n",
        "        return winner\n",
        "    \n",
        "    else:\n",
        "        return majority_vote(labels[:-1])\n",
        "\n",
        "```"
      ],
      "metadata": {
        "id": "nQ_SpZkKjDGA"
      }
    },
    {
      "cell_type": "markdown",
      "source": [
        "3. Classifier\n",
        "\n",
        "\n",
        "\n",
        "* create a function called knn_classifier\n",
        "* inputs: k, labels and new points\n",
        "* organize: nearest -> farthest\n",
        "* label for the k cloest\n",
        "* compute vote with majority vote\n",
        "\n",
        "```python\n",
        "def knn_classify(k: int,\n",
        "                 labeled_points: List[LabeledPoint],\n",
        "                 new_point: Vector) -> str:\n",
        "\n",
        "    # Order the labeled points from nearest to farthest.\n",
        "    by_distance = sorted(labeled_points,\n",
        "                         key=lambda lp: distance(lp.point, new_point))\n",
        "\n",
        "    # Find the labels for the k closest\n",
        "    k_nearest_labels = [lp.label for lp in by_distance[:k]]\n",
        "\n",
        "    # and let them vote.\n",
        "    return majority_vote(k_nearest_labels)\n",
        "```"
      ],
      "metadata": {
        "id": "76XPozsUsVoX"
      }
    }
  ]
}