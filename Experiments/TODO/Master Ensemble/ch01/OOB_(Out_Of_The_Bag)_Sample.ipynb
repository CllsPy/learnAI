{
  "nbformat": 4,
  "nbformat_minor": 0,
  "metadata": {
    "colab": {
      "private_outputs": true,
      "provenance": []
    },
    "kernelspec": {
      "name": "python3",
      "display_name": "Python 3"
    },
    "language_info": {
      "name": "python"
    }
  },
  "cells": [
    {
      "cell_type": "code",
      "execution_count": null,
      "metadata": {
        "id": "sYvbx9fM7V3B"
      },
      "outputs": [],
      "source": [
        "import numpy as np\n",
        "bag = np.random.choice(range(0, 50), size=50, replace=True)\n",
        "np.sort(bag)\n"
      ]
    },
    {
      "cell_type": "code",
      "source": [
        "oob = np.setdiff1d(range(0, 50), bag)\n",
        "oob\n"
      ],
      "metadata": {
        "id": "mU8xtPQt7eyz"
      },
      "execution_count": null,
      "outputs": []
    },
    {
      "cell_type": "markdown",
      "source": [
        "## Implementing bagging\n",
        "\n",
        "1. Generate a bootstrap sample from the original data set.\n",
        "2. Fit a base estimator to the bootstrap sample.\n"
      ],
      "metadata": {
        "id": "2Y5vEly3-DLN"
      }
    },
    {
      "cell_type": "code",
      "source": [
        "import numpy as np\n",
        "from scipy.stats import mode\n",
        "from sklearn.tree import DecisionTreeClassifier\n",
        "\n",
        "rng = np.random.RandomState(seed=4190)\n",
        "\n",
        "def bagging_fit(X, y, n_estimators, max_depth=5, max_samples=200):\n",
        "    n_examples = len(y)\n",
        "    estimators = [DecisionTreeClassifier(max_depth=max_depth)\n",
        "\n",
        "    for _ in range(n_estimators)]\n",
        "\n",
        "    for tree in estimators:\n",
        "        bag = np.random.choice(n_examples, max_samples, replace=True)\n",
        "        tree.fit(X[bag, :], y[bag])\n",
        "\n",
        "    return estimators\n",
        "\n",
        "def bagging_predict(X, estimators):\n",
        "    all_predictions = np.array([tree.predict(X) for tree in estimators])\n",
        "    ypred, _ = mode(all_predictions, axis=0, keepdims=False)\n",
        "    return np.squeeze(ypred)\n"
      ],
      "metadata": {
        "id": "CR-KTLQ0-DnE"
      },
      "execution_count": null,
      "outputs": []
    },
    {
      "cell_type": "code",
      "source": [
        "from sklearn.datasets import make_moons\n",
        "from sklearn.model_selection import train_test_split\n",
        "from sklearn.metrics import accuracy_score\n",
        "\n",
        "X, y = make_moons(n_samples=300, noise=.25, random_state=rng)\n",
        "\n",
        "Xtrn, Xtst, ytrn, ytst = train_test_split(X, y, test_size=0.33,random_state=rng)\n",
        "bag_ens = bagging_fit(Xtrn, ytrn, n_estimators=500, max_depth=12, max_samples=300)\n",
        "ypred = bagging_predict(Xtst, bag_ens)\n",
        "print(accuracy_score(ytst, ypred))"
      ],
      "metadata": {
        "id": "jqKmy1o3_JD6"
      },
      "execution_count": null,
      "outputs": []
    }
  ]
}