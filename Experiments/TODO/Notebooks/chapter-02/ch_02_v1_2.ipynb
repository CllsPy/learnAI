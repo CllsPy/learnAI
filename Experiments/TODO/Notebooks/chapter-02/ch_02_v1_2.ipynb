{
  "nbformat": 4,
  "nbformat_minor": 0,
  "metadata": {
    "colab": {
      "private_outputs": true,
      "provenance": []
    },
    "kernelspec": {
      "name": "python3",
      "display_name": "Python 3"
    },
    "language_info": {
      "name": "python"
    }
  },
  "cells": [
    {
      "cell_type": "markdown",
      "source": [
        "## Load Train and Test"
      ],
      "metadata": {
        "id": "BUiTIR_SkXqx"
      }
    },
    {
      "cell_type": "code",
      "execution_count": null,
      "metadata": {
        "id": "9hGJN4aWjEJC"
      },
      "outputs": [],
      "source": [
        "from tensorflow.keras.datasets import mnist\n",
        "(train_images, train_labels), (test_images, test_labels) = mnist.load_data()"
      ]
    },
    {
      "cell_type": "markdown",
      "source": [
        "## Model"
      ],
      "metadata": {
        "id": "JGgQ_5AqnXYL"
      }
    },
    {
      "cell_type": "code",
      "source": [
        "from tensorflow import keras\n",
        "from tensorflow.keras import layers\n",
        "\n",
        "\n",
        "model = keras.Sequential([\n",
        "    layers.Dense(512, activation='relu'),\n",
        "    layers.Dense(10, activation='softmax')\n",
        "])"
      ],
      "metadata": {
        "id": "dQlHOMIgkgl3"
      },
      "execution_count": null,
      "outputs": []
    },
    {
      "cell_type": "code",
      "source": [
        "model.compile(optimizer=\"rmsprop\",\n",
        " loss=\"sparse_categorical_crossentropy\",\n",
        " metrics=[\"accuracy\"])\n"
      ],
      "metadata": {
        "id": "OGKhlx7alTy7"
      },
      "execution_count": null,
      "outputs": []
    },
    {
      "cell_type": "markdown",
      "source": [
        "## Process"
      ],
      "metadata": {
        "id": "036i-z9ynYzp"
      }
    },
    {
      "cell_type": "code",
      "source": [
        "train_images = train_images.reshape((60000, 28 * 28))\n",
        "train_images = train_images.astype(\"float32\") / 255\n",
        "test_images = test_images.reshape((10000, 28 * 28))\n",
        "test_images = test_images.astype(\"float32\") / 255"
      ],
      "metadata": {
        "id": "tSKEkmXenDde"
      },
      "execution_count": null,
      "outputs": []
    },
    {
      "cell_type": "code",
      "source": [
        "model.fit(train_images, train_labels, epochs=5, batch_size=128)"
      ],
      "metadata": {
        "id": "sJ0I3iQoncSt"
      },
      "execution_count": null,
      "outputs": []
    },
    {
      "cell_type": "code",
      "source": [
        "test_digits = test_images[0:10]\n",
        "predictions = model.predict(test_digits)\n",
        "predictions[0]"
      ],
      "metadata": {
        "id": "mKUf9-g9sgE-"
      },
      "execution_count": null,
      "outputs": []
    },
    {
      "cell_type": "code",
      "source": [
        "predictions[0].argmax() , predictions[0][7] , test_labels[0]"
      ],
      "metadata": {
        "id": "psdA-aplt5b2"
      },
      "execution_count": null,
      "outputs": []
    },
    {
      "cell_type": "code",
      "source": [
        "test_loss, test_acc = model.evaluate(test_images, test_labels)\n",
        "print(f\"test_acc: {test_acc}\")"
      ],
      "metadata": {
        "id": "OMzG2HKPuDD8"
      },
      "execution_count": null,
      "outputs": []
    },
    {
      "cell_type": "markdown",
      "source": [
        "# What's **tensor**"
      ],
      "metadata": {
        "id": "9VOHfRk8vF5u"
      }
    },
    {
      "cell_type": "code",
      "source": [
        "# skalaers rank 0\n",
        "import numpy as np\n",
        "x = np.array(12)\n",
        "x.ndim"
      ],
      "metadata": {
        "id": "mjzQj0lNvJVW"
      },
      "execution_count": null,
      "outputs": []
    },
    {
      "cell_type": "code",
      "source": [
        "# Vector rank 1\n",
        "v = np.array([1, 2, 3, 4, 5])\n",
        "v.ndim"
      ],
      "metadata": {
        "id": "8oqbhhvPvlQM"
      },
      "execution_count": null,
      "outputs": []
    },
    {
      "cell_type": "code",
      "source": [
        "# Matrix rank 2\n",
        "v = np.array([[1, 2,3 ], [4, 5, 6], [7, 8, 9]])\n",
        "v.ndim"
      ],
      "metadata": {
        "id": "u62IjMWAvpuj"
      },
      "execution_count": null,
      "outputs": []
    },
    {
      "cell_type": "markdown",
      "source": [
        "# MNIST (AGAIN) and TENSORS"
      ],
      "metadata": {
        "id": "ftFw9bHax2Yw"
      }
    },
    {
      "cell_type": "code",
      "source": [
        "from tensorflow.keras.datasets import mnist\n",
        "(train_images, train_labels), (test_images, test_labels) = mnist.load_data()"
      ],
      "metadata": {
        "id": "0Nnrenwix5I1"
      },
      "execution_count": null,
      "outputs": []
    },
    {
      "cell_type": "code",
      "source": [
        "train_images.ndim, train_images.shape, train_images.dtype"
      ],
      "metadata": {
        "id": "Dz9v5lDqx7l9"
      },
      "execution_count": null,
      "outputs": []
    },
    {
      "cell_type": "code",
      "source": [
        "train_images_reshaped = train_images.reshape(60000, 28*28)\n",
        "train_images_reshaped.ndim, train_images_reshaped.shape"
      ],
      "metadata": {
        "id": "ZqA62OIoyJWG"
      },
      "execution_count": null,
      "outputs": []
    },
    {
      "cell_type": "code",
      "source": [
        "import matplotlib.pyplot as plt\n",
        "digit = train_images[4]\n",
        "plt.imshow(digit, cmap=plt.cm.binary)\n",
        "plt.show(), train_labels[4]"
      ],
      "metadata": {
        "id": "wthDN9r41t-S"
      },
      "execution_count": null,
      "outputs": []
    },
    {
      "cell_type": "markdown",
      "source": [
        "## Slicing"
      ],
      "metadata": {
        "id": "e9_bluaM2le1"
      }
    },
    {
      "cell_type": "code",
      "source": [
        "train_images[10:100].shape"
      ],
      "metadata": {
        "id": "JuAveOqt2mSl"
      },
      "execution_count": null,
      "outputs": []
    }
  ]
}