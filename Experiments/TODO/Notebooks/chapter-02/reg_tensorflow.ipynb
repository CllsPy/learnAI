{
  "nbformat": 4,
  "nbformat_minor": 0,
  "metadata": {
    "colab": {
      "private_outputs": true,
      "provenance": []
    },
    "kernelspec": {
      "name": "python3",
      "display_name": "Python 3"
    },
    "language_info": {
      "name": "python"
    }
  },
  "cells": [
    {
      "cell_type": "code",
      "execution_count": null,
      "metadata": {
        "id": "l2Wa-96g_3aU"
      },
      "outputs": [],
      "source": [
        "from tensorflow import keras\n",
        "from tensorflow.keras import layers\n",
        "\n",
        "import pandas as pd\n",
        "from sklearn.model_selection import train_test_split"
      ]
    },
    {
      "cell_type": "markdown",
      "source": [
        "# Load Test and Train"
      ],
      "metadata": {
        "id": "xRL85B1rAEZm"
      }
    },
    {
      "cell_type": "code",
      "source": [
        "df = pd.read_csv('/content/WineQT.csv').drop('Id', axis=1)\n",
        "\n",
        "X = df.iloc[:, 0:11].values\n",
        "y = df.iloc[:, 11:].values\n",
        "\n",
        "X_train, X_test, y_train, y_test = train_test_split(\n",
        "    X, y, test_size=0.2, stratify=y, random_state=102)\n"
      ],
      "metadata": {
        "id": "NeU3WbdvAGiZ"
      },
      "execution_count": null,
      "outputs": []
    },
    {
      "cell_type": "markdown",
      "source": [
        "# Create Model"
      ],
      "metadata": {
        "id": "JundjnsdBVTN"
      }
    },
    {
      "cell_type": "code",
      "source": [
        "model = keras.Sequential([\n",
        "    layers.Dense(512, activation=\"relu\"),\n",
        "    layers.Dense(1)]\n",
        "    )"
      ],
      "metadata": {
        "id": "JZhsmuvaBWSq"
      },
      "execution_count": null,
      "outputs": []
    },
    {
      "cell_type": "markdown",
      "source": [
        "# Compile"
      ],
      "metadata": {
        "id": "RWQ8m0k7BlXC"
      }
    },
    {
      "cell_type": "code",
      "source": [
        "model.compile(\n",
        "    optimizer=\"rmsprop\",\n",
        "    loss=\"mean_squared_error\",\n",
        "    metrics=['mae'])"
      ],
      "metadata": {
        "id": "hyUD4fQFBmnm"
      },
      "execution_count": null,
      "outputs": []
    },
    {
      "cell_type": "markdown",
      "source": [
        "# Train Model"
      ],
      "metadata": {
        "id": "Ph3lyunWFk-Z"
      }
    },
    {
      "cell_type": "code",
      "source": [
        "model.fit(X_train, y_train, epochs=10, batch_size=10)"
      ],
      "metadata": {
        "id": "7ZYtlsWEFtSE"
      },
      "execution_count": null,
      "outputs": []
    },
    {
      "cell_type": "code",
      "source": [
        "test = X_test[0:10]\n",
        "predictions = model.predict(test)\n",
        "predictions[0], y_train[0]"
      ],
      "metadata": {
        "id": "ft28NP3iFvh2"
      },
      "execution_count": null,
      "outputs": []
    }
  ]
}