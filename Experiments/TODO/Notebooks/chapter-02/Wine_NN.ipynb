{
  "nbformat": 4,
  "nbformat_minor": 0,
  "metadata": {
    "colab": {
      "private_outputs": true,
      "provenance": []
    },
    "kernelspec": {
      "name": "python3",
      "display_name": "Python 3"
    },
    "language_info": {
      "name": "python"
    }
  },
  "cells": [
    {
      "cell_type": "code",
      "execution_count": null,
      "metadata": {
        "id": "EfwrzCZ8opmH"
      },
      "outputs": [],
      "source": [
        "import tensorflow\n",
        "import pandas as pd\n",
        "from tensorflow import keras\n",
        "from tensorflow.keras import layers"
      ]
    },
    {
      "cell_type": "code",
      "source": [
        "data = pd.read_csv('/content/WineQT.csv').drop('Id', axis=1)\n",
        "data.head(5)"
      ],
      "metadata": {
        "id": "GiPCQlcnpQGi"
      },
      "execution_count": null,
      "outputs": []
    },
    {
      "cell_type": "code",
      "source": [
        "import numpy as np\n",
        "from sklearn.model_selection import train_test_split\n",
        "from tensorflow import keras\n",
        "from tensorflow.keras import layers\n",
        "\n",
        "# Supondo que 'data' é o seu DataFrame já carregado\n",
        "X = data.iloc[:, 0:11].values  # Recursos\n",
        "y = data.iloc[:, 11].values     # Alvo (saída), mudando para uma dimensão adequada para regressão\n",
        "\n",
        "# Divisão dos dados em conjuntos de treino e teste\n",
        "X_train, X_test, y_train, y_test = train_test_split(X, y, test_size=0.33, random_state=42)\n",
        "\n",
        "# Definição do modelo\n",
        "model = keras.Sequential([\n",
        "    layers.Dense(512, activation='relu', input_shape=(X_train.shape[1],)),  # Definindo a forma de entrada\n",
        "    layers.Dense(1)  # Saída única para regressão, sem ativação\n",
        "])\n",
        "\n",
        "# Compilação do modelo\n",
        "model.compile(optimizer=\"rmsprop\",\n",
        "              loss=\"mean_squared_error\",  # Função de perda para regressão\n",
        "              metrics=[\"mae\"])  # Usando erro absoluto médio como métrica\n",
        "\n",
        "# Treinamento do modelo\n",
        "model.fit(X_train, y_train, epochs=10, batch_size=128)\n",
        "\n",
        "# Avaliação do modelo (opcional)\n",
        "loss, mae = model.evaluate(X_test, y_test)\n",
        "print(f\"Mean Absolute Error: {mae}\")\n"
      ],
      "metadata": {
        "id": "pUKUpFUBqY4Z"
      },
      "execution_count": null,
      "outputs": []
    },
    {
      "cell_type": "code",
      "source": [
        "test = X_test[0:10]\n",
        "predictions = model.predict(test)\n",
        "predictions[0], y_test[0]"
      ],
      "metadata": {
        "id": "pc4O7uN7qqfm"
      },
      "execution_count": null,
      "outputs": []
    }
  ]
}